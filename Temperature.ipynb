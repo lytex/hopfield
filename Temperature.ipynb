{
 "cells": [
  {
   "cell_type": "markdown",
   "metadata": {},
   "source": [
    "This function g models the effect of the equation:\n",
    "$$\\frac{\\partial \\sigma_i}{\\partial t}  = -\\frac{\\partial V}{\\partial \\sigma_i} +\n",
    "\\sum_j J_{ij} \\sigma_j + h_i\\sigma_i + \\xi_i(t)$$\n",
    "\n",
    "with $V = \\lambda (\\sigma_i^2 - 1)^2$ so that $\\frac{\\partial V}{\\partial\\sigma_i} = \\text{cexp}(\\sigma_i^2 - 1)$. This term is added to ensure that $\\sigma_i$ decays exponentially to either $\\pm 1$ within a time $\\tau \\sim 1/\\text{cexp}$\n",
    "\n",
    "The $\\xi_i(t)$ term represents Gaussian White Noise\n",
    "\n",
    "$$ \\langle \\xi_i(t) \\xi_j(t') \\rangle = 2T\\delta_{ij}\\delta(t-t')$$\n",
    "i.e., $\\xi_i(t)$ follows a $N(0, 2T)$, there is no correlation between the noise of different spins  ($i \\neq j$) and the process is Markovian and therefore has no memory (the correlation is only nonzero when $t = t'$)\n"
   ]
  },
  {
   "cell_type": "code",
   "execution_count": 22,
   "metadata": {},
   "outputs": [],
   "source": [
    "import numpy as np\n",
    "# define functions and parameters T, cexp\n",
    "# you have to rerun this cell if you want to change your parameters\n",
    "T = 0.0\n",
    "cexp = 1.0\n",
    "def g(state_t0, weights):\n",
    "    h = np.dot(weights, state_t0)\n",
    "    xi = np.sqrt(2*T)*np.random.randn(np.size(state_t0))\n",
    "    return -cexp*(state_t0**2 - 1) + h + xi + state_t0"
   ]
  },
  {
   "cell_type": "markdown",
   "metadata": {},
   "source": [
    "$$J_{ij} = \\frac{1}{N}\\sum_{\\lambda=1}^K m_i^{(\\lambda)} m_j^{(\\lambda)}$$\n",
    "\n",
    "$m_i^{(\\lambda)}$ can be written as a slice of a [Hadamard matrix](https://en.wikipedia.org/wiki/Hadamard_matrix), since the patterns have to be orthogonal, $\\sum_i m_i^{(\\lambda)} m_i^{(\\lambda')} = 0 $ if $\\lambda \\neq \\lambda'$\n",
    "$i = 1..N$ and $\\lambda = 1..K$. $N = L^2$ is the size of the newtork and $K$ is the number of stationary states of the system (memory patterns)"
   ]
  },
  {
   "cell_type": "code",
   "execution_count": 23,
   "metadata": {},
   "outputs": [
    {
     "data": {
      "image/png": "[encoded data removed]",
      "text/plain": [
       "<Figure size 432x288 with 10 Axes>"
      ]
     },
     "metadata": {
      "needs_background": "light"
     },
     "output_type": "display_data"
    }
   ],
   "source": [
    "%matplotlib inline\n",
    "from neurodynex.hopfield_network import network, pattern_tools, plot_tools\n",
    "from scipy.linalg import hadamard\n",
    "\n",
    "L = 5 # size of the newtork\n",
    "N = L**2\n",
    "had_size = 2**np.ceil(np.log2(N))\n",
    "# had_size has to be a power of two\n",
    "H = hadamard(had_size) # Orthogonal patterns\n",
    "K = L - 1 # number of stationary states of the system (memory patterns)\n",
    "H = H[0:N, 0:K]\n",
    "\n",
    "# create an instance of the class HopfieldNetwork\n",
    "hopfield_net = network.HopfieldNetwork(nr_neurons=N)\n",
    "# instantiate a pattern factory\n",
    "factory = pattern_tools.PatternFactory(L, L)\n",
    "\n",
    "# einstein summation convention, sum in lambda index\n",
    "hopfield_net.weights = 1/N*np.einsum('ik,jk->ij', H, H)\n",
    "\n",
    "# set user defined function to update the state\n",
    "hopfield_net.set_dynamics_to_user_function(g)\n",
    "# hopfield_net.set_dynamics_sign_sync()\n",
    "\n",
    "# from this initial state, let the network dynamics evolve.\n",
    "# state = hopfield_net.state\n",
    "# state = factory.reshape_patterns([state])[0]\n",
    "# plot_tools.plot_pattern(state)\n",
    "# print('Initial state')\n",
    "# hopfield_net.run(nr_steps=1)\n",
    "# state = hopfield_net.state\n",
    "# state = factory.reshape_patterns([state])[0]\n",
    "# plot_tools.plot_pattern(state)\n",
    "# print('Final state')\n",
    "\n",
    "\n",
    "states = hopfield_net.run_with_monitoring(nr_steps=9)\n",
    "# TODO large nr_steps fails because numbers blow up (see cell below)\n",
    "\n",
    "# each network state is a vector. reshape it to the same shape used to create the patterns.\n",
    "states_as_patterns = factory.reshape_patterns(states)\n",
    "# plot the states of the network\n",
    "plot_tools.plot_pattern_list(states_as_patterns)"
   ]
  },
  {
   "cell_type": "code",
   "execution_count": 24,
   "metadata": {},
   "outputs": [
    {
     "data": {
      "text/plain": [
       "array([ 2.67821221e+00,  8.43104390e-01, -5.75759243e+35, -5.57616825e+93,\n",
       "        2.67821221e+00,  3.42000475e-01, -1.79915782e+67, -3.27043318e+52,\n",
       "        2.67821221e+00,  3.42000475e-01, -1.79915782e+67, -5.57616825e+93,\n",
       "       -2.57872964e-01,  3.42000475e-01, -1.79915782e+67, -5.57616825e+93,\n",
       "       -2.57872964e-01,  3.42000475e-01, -5.75759243e+35, -5.57616825e+93,\n",
       "       -2.57872964e-01,  8.43104390e-01, -1.79915782e+67, -5.57616825e+93,\n",
       "        2.67821221e+00])"
      ]
     },
     "execution_count": 24,
     "metadata": {},
     "output_type": "execute_result"
    }
   ],
   "source": [
    "states[9] # final state\n",
    "# TODO the spins blow up and increase with each update. they don't converge to +/- 1"
   ]
  },
  {
   "cell_type": "code",
   "execution_count": null,
   "metadata": {},
   "outputs": [],
   "source": []
  }
 ],
 "metadata": {
  "kernelspec": {
   "display_name": "hopfield",
   "language": "python",
   "name": "hopfield"
  },
  "language_info": {
   "codemirror_mode": {
    "name": "ipython",
    "version": 3
   },
   "file_extension": ".py",
   "mimetype": "text/x-python",
   "name": "python",
   "nbconvert_exporter": "python",
   "pygments_lexer": "ipython3",
   "version": "3.7.3rc1"
  }
 },
 "nbformat": 4,
 "nbformat_minor": 2
}
