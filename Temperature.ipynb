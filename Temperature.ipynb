{
 "cells": [
  {
   "cell_type": "markdown",
   "metadata": {},
   "source": [
    "# Differential equation (Langevin equation)"
   ]
  },
  {
   "cell_type": "markdown",
   "metadata": {},
   "source": [
    "This function g models the effect of the equation:\n",
    "$$\\frac{\\partial \\sigma_i}{\\partial t}  = -\\frac{\\partial V}{\\partial \\sigma_i} +\n",
    "\\sum_j J_{ij} \\sigma_j + h_i\\sigma_i + \\xi_i(t)$$\n",
    "\n",
    "with $V = \\lambda (\\sigma_i^2 - 1)^2$ so that $\\frac{\\partial V}{\\partial\\sigma_i} = 4\\lambda(\\sigma_i^2 - 1)\\sigma_i$. This term is added to ensure that $\\sigma_i$ decays exponentially to either $\\pm 1$ within a time $\\tau \\sim \\frac{1}{\\lambda}$\n",
    "\n",
    "The $\\xi_i(t)$ term represents Gaussian White Noise\n",
    "\n",
    "$$ \\langle \\xi_i(t) \\xi_j(t') \\rangle = 2T\\delta_{ij}\\delta(t-t')$$\n",
    "i.e., $\\xi_i(t)$ follows a $N(0, 2T)$, there is no correlation between the noise of different spins  ($i \\neq j$) and the process is Markovian and therefore has no memory (the correlation is only nonzero when $t = t'$). "
   ]
  },
  {
   "cell_type": "markdown",
   "metadata": {},
   "source": [
    "# Finite differences"
   ]
  },
  {
   "cell_type": "markdown",
   "metadata": {},
   "source": [
    "Now we have to translate this differential equation into some finite difference equation. Since the neural network works with integer time increments, the exponential decay dynamics must be fast in times of order 1 and the Ising dynamics must be \"slow\"\n",
    "\n",
    "$$\\sigma_i(t+dt) - \\sigma_i(t) = dt\\left(-4\\lambda(\\sigma_i^2 - 1)\\sigma_i + \\sum_j J_{ij} \\sigma_j + h_i\\sigma_i \\right) + \\sqrt{2T}dW$$\n",
    "\n",
    "absorbing 4 into $\\lambda$ and clearing $\\sigma_i(t+1)$:\n",
    "\n",
    "$$g (\\sigma_i(t)) = \\sigma_i(t+dt)= dt\\left(-\\lambda(\\sigma_i^2 - 1)\\sigma_i +  \\sum_j J_{ij} \\sigma_j + h_i\\sigma_i +  \\right) + \\sigma_i(t) + \\sqrt{2T}dW$$\n",
    "\n",
    "This will be our dynamical function $g (\\sigma_i(t))$ defined later in the code. The noise $dW$ is now an stochastic differential of mean $\\mu(dW) = 0$ and variance $\\sigma^2(dW) = dt$, as commonly used.\n",
    "\n",
    "The stationary condition can be rewritten as\n",
    "\n",
    "$$\\frac{d\\sigma_i}{dt} \\approx \\frac{\\sigma_i(t+dt) - \\sigma_i(t)}{dt} = \\frac{g(\\sigma_i(t)) - \\sigma_i(t)}{dt} \\approx 0$$"
   ]
  },
  {
   "cell_type": "markdown",
   "metadata": {},
   "source": [
    "# Values of the dynamical parameters"
   ]
  },
  {
   "cell_type": "markdown",
   "metadata": {},
   "source": [
    " The values of the parameters are very important for the model to converge suscessfully.Too big parameter values (close or bigger than one) will cause the network to oscilate wildly trying to overcompensate the errors, while small values will converge very slowly but safely. There are another also other effects when varying $dt$ and $\\lambda$."
   ]
  },
  {
   "cell_type": "code",
   "execution_count": 1,
   "metadata": {
    "ExecuteTime": {
     "end_time": "2019-05-05T14:56:20.345148Z",
     "start_time": "2019-05-05T14:56:20.341406Z"
    }
   },
   "outputs": [],
   "source": [
    "import numpy as np\n",
    "# Define dynamical function s(t+dt) = g(s(t))\n",
    "def g(state_t0, weights):\n",
    "    h = np.dot(weights, state_t0)\n",
    "    xi = np.sqrt(2*T*dt)*np.random.randn(np.size(state_t0))\n",
    "    state_t1 = dt*(-lamb*(state_t0**2 - 1)*state_t0 + h) + xi + state_t0\n",
    "    return state_t1"
   ]
  },
  {
   "cell_type": "markdown",
   "metadata": {},
   "source": [
    "$$J_{ij} = \\frac{1}{N}\\sum_{\\lambda=1}^K m_i^{(\\lambda)} m_j^{(\\lambda)}$$\n",
    "\n",
    "$m_i^{(\\lambda)}$ can be written as a [Hadamard matrix](https://en.wikipedia.org/wiki/Hadamard_matrix) if $L = 2^n$, the orthogonality condition for the patterns becomes, $\\sum_i m_i^{(\\lambda)} m_i^{(\\lambda')} = 0 $ if $\\lambda \\neq \\lambda'$\n",
    "$i = 1..N$ and $\\lambda = 1..K$. $N = L^2$ is the size of the newtork and $K$ is the number of stationary states of the system (memory patterns)"
   ]
  },
  {
   "cell_type": "code",
   "execution_count": 4,
   "metadata": {
    "ExecuteTime": {
     "end_time": "2019-05-05T15:04:40.978745Z",
     "start_time": "2019-05-05T15:04:40.960036Z"
    }
   },
   "outputs": [],
   "source": [
    "import matplotlib.pyplot as plt\n",
    "%matplotlib inline\n",
    "from neurodynex.hopfield_network import network, pattern_tools, plot_tools\n",
    "from scipy.linalg import hadamard\n",
    "\n",
    "\n",
    "def get_stationary(N, K):\n",
    "    # get the first K stationary patterns of a network of size N\n",
    "    # N has to be a power of two\n",
    "    L = int(np.sqrt(N))\n",
    "    H = np.squeeze(hadamard(N)) # Orthogonal patterns by definition\n",
    "    \n",
    "    if K == 1:\n",
    "        H = H[0:N, L:L+1] # Get one arbitrary pattern\n",
    "    else:\n",
    "        H = H[0:N, 0:K]\n",
    "            \n",
    "    return H\n",
    "\n",
    "def plot_evolution(states, H, L):\n",
    "    \"\"\"\n",
    "    plot_evolution(states, H, L)\n",
    "    plot evolution of states at 10 equispaced instants of a network of side L\n",
    "    plot also the stationary states H\n",
    "    \"\"\"\n",
    "    \n",
    "    factory = pattern_tools.PatternFactory(L, L)\n",
    "    states_as_patterns = factory.reshape_patterns(states[0:nsteps:round(nsteps/10)])\n",
    "    # plot the states of the network (10 equispaced states)\n",
    "    old = plt.rcParams[\"figure.figsize\"]\n",
    "    plt.rcParams[\"figure.figsize\"] = (20, 20) # Bigger size\n",
    "    plot_tools.plot_pattern_list(states_as_patterns)\n",
    "    plt.rcParams[\"figure.figsize\"] = old\n",
    "\n",
    "    # plot final state\n",
    "    plot_tools.plot_pattern(np.reshape(states[-1], (L, L)))\n",
    "    print('Final state')\n",
    "\n",
    "    if len(np.shape(np.squeeze(H))) < 2:\n",
    "        # only one stationary state\n",
    "        plot_tools.plot_pattern(np.reshape(H, (L, L)))\n",
    "        print('Stationary state')\n",
    "\n",
    "    else:\n",
    "        H_patterns = factory.reshape_patterns(H.T)\n",
    "        print(np.shape(H.T))\n",
    "        old = plt.rcParams[\"figure.figsize\"]\n",
    "        plt.rcParams[\"figure.figsize\"] = (20, 20) # Bigger size\n",
    "        plot_tools.plot_pattern_list(H_patterns)\n",
    "        plt.rcParams[\"figure.figsize\"] = old\n",
    "        print('Stationary states')\n",
    "        \n",
    "\n",
    "def iterate_plot(nsteps,  plot=False, flips=-1, pattern=-1,):\n",
    "    \"\"\"\n",
    "    iterate_plot(nsteps, plot=False, flips=-1, pattern=-1)\n",
    "    iterate nsteps and plot (if True) time evolution, final state and all stationary patterns\n",
    "    flips is the number of spin flipped from the stationary pattern\n",
    "    pattern is the number of the stationary pattern as given below by the function itself\n",
    "    (P0, P1, P2, P3, P4, ...)\n",
    "    \"\"\"\n",
    "\n",
    "    H = get_stationary(N, K)\n",
    "\n",
    "    # create an instance of the class HopfieldNetwork\n",
    "    hopfield_net = network.HopfieldNetwork(nr_neurons=N)\n",
    "    # instantiate a pattern factory\n",
    "    factory = pattern_tools.PatternFactory(L, L)\n",
    "\n",
    "    # einstein summation convention, sum in lambda index (l in the code)\n",
    "    hopfield_net.weights = 1/N*np.einsum('il,jl->ij', H, H)\n",
    "\n",
    "    # set user defined function to update the state\n",
    "    hopfield_net.set_dynamics_to_user_function(g)\n",
    "    # hopfield_net.set_dynamics_sign_sync()\n",
    "\n",
    "    stationary = np.squeeze(H)\n",
    "\n",
    "    if flips == -1:\n",
    "        hopfield_net.state = hopfield_net.state # random initial state\n",
    "    elif pattern == -1 or K == 1:\n",
    "        # flip some spins from the stat state (only one stationary state)\n",
    "        hopfield_net.state = pattern_tools.flip_n(stationary, nr_of_flips=flips)\n",
    "    else:\n",
    "        # flip some spins from the given stat state (more than one stationary state)\n",
    "        hopfield_net.state = pattern_tools.flip_n(stationary[:, pattern], nr_of_flips=flips) \n",
    "\n",
    "    states = hopfield_net.run_with_monitoring(nr_steps=nsteps)\n",
    "    \n",
    "    if plot == True:\n",
    "        plot_evolution(states, H, L)\n",
    "    \n",
    "    return states, hopfield_net.weights\n",
    "\n"
   ]
  },
  {
   "cell_type": "code",
   "execution_count": 63,
   "metadata": {
    "ExecuteTime": {
     "end_time": "2019-05-05T15:21:21.758193Z",
     "start_time": "2019-05-05T15:21:19.805269Z"
    }
   },
   "outputs": [
    {
     "data": {
      "image/png": "[encoded data removed]",
      "text/plain": [
       "<Figure size 1440x1440 with 10 Axes>"
      ]
     },
     "metadata": {
      "needs_background": "light"
     },
     "output_type": "display_data"
    },
    {
     "data": {
      "image/png": "[encoded data removed]",
      "text/plain": [
       "<Figure size 432x288 with 1 Axes>"
      ]
     },
     "metadata": {
      "needs_background": "light"
     },
     "output_type": "display_data"
    },
    {
     "name": "stdout",
     "output_type": "stream",
     "text": [
      "Final state\n",
      "(10, 64)\n"
     ]
    },
    {
     "data": {
      "image/png": "[encoded data removed]",
      "text/plain": [
       "<Figure size 1440x1440 with 10 Axes>"
      ]
     },
     "metadata": {
      "needs_background": "light"
     },
     "output_type": "display_data"
    },
    {
     "name": "stdout",
     "output_type": "stream",
     "text": [
      "Stationary states\n"
     ]
    },
    {
     "data": {
      "text/plain": [
       "Text(0, 0.5, '<|g(s)-s|>')"
      ]
     },
     "execution_count": 63,
     "metadata": {},
     "output_type": "execute_result"
    },
    {
     "data": {
      "image/png": "[encoded data removed]",
      "text/plain": [
       "<Figure size 432x288 with 1 Axes>"
      ]
     },
     "metadata": {
      "needs_background": "light"
     },
     "output_type": "display_data"
    },
    {
     "data": {
      "image/png": "[encoded data removed]",
      "text/plain": [
       "<Figure size 432x288 with 1 Axes>"
      ]
     },
     "metadata": {
      "needs_background": "light"
     },
     "output_type": "display_data"
    },
    {
     "data": {
      "image/png": "[encoded data removed]",
      "text/plain": [
       "<Figure size 432x288 with 1 Axes>"
      ]
     },
     "metadata": {
      "needs_background": "light"
     },
     "output_type": "display_data"
    }
   ],
   "source": [
    "import matplotlib.pyplot as plt\n",
    "L = 8 # size of the newtork\n",
    "N = L**2\n",
    "K = 10 # number of memory patterns to be stored\n",
    "dt = 0.01\n",
    "lamb = 0.5\n",
    "T = 0.0 # Temperature\n",
    "nsteps = 4000 # number of steps of the simulation\n",
    "naverage = 1 # number of simulations to compute average values\n",
    "\n",
    "# for each simulation, sum the values and then divide by naverage\n",
    "# for each simulation, the following variables will be:\n",
    "states_sum = np.zeros([nsteps+1, N]) # value of each spin\n",
    "abs_s = 0 # absoulte value of each spin averaged over the network\n",
    "M = 0 # magnetization, value of each spin averaged over the network\n",
    "chi = 0 # chi = <M^2> - <M^2> = var(M)\n",
    "conv = 0 # |g(s(t)) -s(t)|/dt = |s(t+dt) - s(t)|/dt -> 0 @ T = 0 for a stationary state\n",
    "\n",
    "# iterate over naverage simulations\n",
    "for temp in range(0, naverage):\n",
    "    states, weights = iterate_plot(nsteps, False, 25, 4)\n",
    "    states_sum += states\n",
    "    abs_s += np.mean(np.abs(states), axis=1)\n",
    "    M += np.mean(states, axis=1)\n",
    "    chi += np.var(np.abs(states), axis=1)\n",
    "    conv += np.mean(np.abs([g(x, weights) - x for x in states]), axis=1)\n",
    "\n",
    "states = states_sum/naverage\n",
    "abs_s = abs_s/naverage\n",
    "M = M/naverage\n",
    "chi = chi/naverage\n",
    "conv = conv/naverage/dt\n",
    "\n",
    "H = get_stationary(N, K)\n",
    "plot_evolution(states, H, L)\n",
    "\n",
    "plt.figure(1)\n",
    "plt.plot(abs_s)\n",
    "plt.plot(M)\n",
    "stat = np.sqrt(1+1/lamb) # converges to stat instead of +/- 1\n",
    "plt.plot([0, len(abs_s)], [stat, stat], 'r')\n",
    "plt.xlabel('t')\n",
    "plt.legend(['<|s|>', 'M', 'sqrt(1+1/lamb)'])\n",
    "\n",
    "# E = -np.einsum('ik->k', np.einsum('ij,kj->ik', weights, states))\n",
    "# plt.figure(2)\n",
    "# plt.plot(E)\n",
    "# plt.xlabel('t')\n",
    "# plt.ylabel('E')\n",
    "\n",
    "plt.figure(4)\n",
    "plt.plot(chi)\n",
    "plt.xlabel('t')\n",
    "plt.ylabel('chi')\n",
    "\n",
    "plt.figure(5)\n",
    "plt.semilogy(conv)\n",
    "plt.xlabel('t')\n",
    "plt.ylabel('<|g(s)-s|>')\n",
    "\n"
   ]
  },
  {
   "cell_type": "markdown",
   "metadata": {},
   "source": [
    "Convergence to $\\pm 1$ (rerun the cell above, bigger nsteps may be needed with increasing $\\lambda$)\n",
    "\n",
    "| $\\lambda$ | 0.125 | 0.25 | 0.5 | 1.0 | 2.0 |\n",
    "|-----------|-------|------|-----|-----|-----|\n",
    "|   $|s|$   |  3.0  |  2.2 | 1.7 | 1.4 | 1.2 |\n",
    "\n",
    "\n"
   ]
  },
  {
   "cell_type": "code",
   "execution_count": 76,
   "metadata": {
    "ExecuteTime": {
     "end_time": "2019-05-05T15:27:32.640852Z",
     "start_time": "2019-05-05T15:27:31.902258Z"
    }
   },
   "outputs": [
    {
     "data": {
      "image/png": "[encoded data removed]",
      "text/plain": [
       "<Figure size 432x288 with 1 Axes>"
      ]
     },
     "metadata": {
      "needs_background": "light"
     },
     "output_type": "display_data"
    },
    {
     "data": {
      "image/png": "[encoded data removed]",
      "text/plain": [
       "<Figure size 432x288 with 1 Axes>"
      ]
     },
     "metadata": {
      "needs_background": "light"
     },
     "output_type": "display_data"
    },
    {
     "name": "stdout",
     "output_type": "stream",
     "text": [
      "Final state\n"
     ]
    },
    {
     "data": {
      "image/png": "[encoded data removed]",
      "text/plain": [
       "<Figure size 432x288 with 10 Axes>"
      ]
     },
     "metadata": {
      "needs_background": "light"
     },
     "output_type": "display_data"
    },
    {
     "data": {
      "image/png": "[encoded data removed]",
      "text/plain": [
       "<Figure size 432x288 with 2 Axes>"
      ]
     },
     "metadata": {
      "needs_background": "light"
     },
     "output_type": "display_data"
    },
    {
     "data": {
      "text/plain": [
       "0.0"
      ]
     },
     "execution_count": 76,
     "metadata": {},
     "output_type": "execute_result"
    }
   ],
   "source": [
    "plt.figure(1)\n",
    "H = get_stationary(N, K)\n",
    "overlap = [pattern_tools.compute_overlap(states[-1], x) for x in H.T]\n",
    "plt.bar(np.arange(0, K), overlap)\n",
    "plt.title('Overlap between final state and stationary patterns')\n",
    "metastable = np.dot(overlap, H.T) # Reconstruct metastable pattern\n",
    "plot_tools.plot_pattern(np.reshape(metastable, (L, L)))\n",
    "print(\"Final state\")\n",
    "\n",
    "# check that overlap_matrix is diagonal\n",
    "factory = pattern_tools.PatternFactory(L, L)\n",
    "pattern_list = factory.reshape_patterns(H.T)\n",
    "plot_tools.plot_pattern_list(pattern_list)\n",
    "# how similar are the random patterns and the checkerboard? Check the overlaps\n",
    "overlap_matrix = pattern_tools.compute_overlap_matrix(pattern_list)\n",
    "plot_tools.plot_overlap_matrix(overlap_matrix)\n",
    "np.sum(np.abs(overlap_matrix-np.eye(len(H.T)))) # 0 for diagonal overlap_matrix"
   ]
  },
  {
   "cell_type": "code",
   "execution_count": 70,
   "metadata": {
    "ExecuteTime": {
     "end_time": "2019-05-05T15:25:27.479698Z",
     "start_time": "2019-05-05T15:25:27.476807Z"
    }
   },
   "outputs": [],
   "source": []
  },
  {
   "cell_type": "code",
   "execution_count": null,
   "metadata": {},
   "outputs": [],
   "source": []
  }
 ],
 "metadata": {
  "kernelspec": {
   "display_name": "hopfield",
   "language": "python",
   "name": "hopfield"
  },
  "language_info": {
   "codemirror_mode": {
    "name": "ipython",
    "version": 3
   },
   "file_extension": ".py",
   "mimetype": "text/x-python",
   "name": "python",
   "nbconvert_exporter": "python",
   "pygments_lexer": "ipython3",
   "version": "3.7.3rc1"
  },
  "varInspector": {
   "cols": {
    "lenName": 16,
    "lenType": 16,
    "lenVar": 40
   },
   "kernels_config": {
    "python": {
     "delete_cmd_postfix": "",
     "delete_cmd_prefix": "del ",
     "library": "var_list.py",
     "varRefreshCmd": "print(var_dic_list())"
    },
    "r": {
     "delete_cmd_postfix": ") ",
     "delete_cmd_prefix": "rm(",
     "library": "var_list.r",
     "varRefreshCmd": "cat(var_dic_list()) "
    }
   },
   "oldHeight": 364.85,
   "position": {
    "height": "40px",
    "left": "824px",
    "right": "19px",
    "top": "2px",
    "width": "523px"
   },
   "types_to_exclude": [
    "module",
    "function",
    "builtin_function_or_method",
    "instance",
    "_Feature"
   ],
   "varInspector_section_display": "none",
   "window_display": true
  }
 },
 "nbformat": 4,
 "nbformat_minor": 2
}
