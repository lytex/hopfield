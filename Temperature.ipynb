{
 "cells": [
  {
   "cell_type": "markdown",
   "metadata": {},
   "source": [
    "# Differencial equation"
   ]
  },
  {
   "cell_type": "markdown",
   "metadata": {},
   "source": [
    "This function g models the effect of the equation:\n",
    "$$\\frac{\\partial \\sigma_i}{\\partial t}  = -\\frac{\\partial V}{\\partial \\sigma_i} +\n",
    "\\sum_j J_{ij} \\sigma_j + h_i\\sigma_i + \\xi_i(t)$$\n",
    "\n",
    "with $V = \\lambda (\\sigma_i^2 - 1)^2$ so that $\\frac{\\partial V}{\\partial\\sigma_i} = 4\\lambda(\\sigma_i^2 - 1)\\sigma_i$. This term is added to ensure that $\\sigma_i$ decays exponentially to either $\\pm 1$ within a time $\\tau \\sim \\frac{1}{\\lambda}$\n",
    "\n",
    "The $\\xi_i(t)$ term represents Gaussian White Noise\n",
    "\n",
    "$$ \\langle \\xi_i(t) \\xi_j(t') \\rangle = 2T\\delta_{ij}\\delta(t-t')$$\n",
    "i.e., $\\xi_i(t)$ follows a $N(0, 2T)$, there is no correlation between the noise of different spins  ($i \\neq j$) and the process is Markovian and therefore has no memory (the correlation is only nonzero when $t = t'$)"
   ]
  },
  {
   "cell_type": "markdown",
   "metadata": {},
   "source": [
    "# Finite differences"
   ]
  },
  {
   "cell_type": "markdown",
   "metadata": {},
   "source": [
    "Now we have to translate this differential equation into some finite difference equation. Since the neural network works with integer time increments, the exponential decay dynamics must be fast in times of order 1 and the Ising dynamics must be \"slow\"\n",
    "\n",
    "$$\\sigma_i(t+1) - \\sigma_i(t) = -4\\lambda(\\sigma_i^2 - 1)\\sigma_i + \\epsilon\\left( \\sum_j J_{ij} \\sigma_j + h_i\\sigma_i + \\xi_i(t) \\right)$$\n",
    "\n",
    "absorbing 4 into $\\lambda$ and clearing \\sigma_i(t+1):\n",
    "\n",
    "$$g (\\sigma_i(t)) = \\sigma_i(t+1)= -\\lambda(\\sigma_i^2 - 1)\\sigma_i + \\epsilon\\left( \\sum_j J_{ij} \\sigma_j + h_i\\sigma_i + \\xi_i(t) \\right) + \\sigma_i(t)$$\n",
    "\n",
    "This will be our dynamical function $g (\\sigma_i(t))$ defined later in the code"
   ]
  },
  {
   "cell_type": "markdown",
   "metadata": {},
   "source": [
    "# Values of the dynamical parameters"
   ]
  },
  {
   "cell_type": "markdown",
   "metadata": {},
   "source": [
    "The values of the parameters are very important for the model to converge suscessfully.Too big parameter values (close or bigger than one) will cause the network to oscilate wildly trying to overcompensate the errors, while small values will converge very slowly but safely. There are another also other effects when varying $\\epsilon$ and $\\lambda$.\n",
    "\n",
    "Normally we want $\\lambda > \\epsilon$ (i.e., the network decays to $\\pm 1$ faster than the Ising dynamics) and also $\\lambda + \\epsilon \\lesssim 1$"
   ]
  },
  {
   "cell_type": "code",
   "execution_count": 51,
   "metadata": {
    "ExecuteTime": {
     "end_time": "2019-04-29T18:50:55.134992Z",
     "start_time": "2019-04-29T18:50:55.131463Z"
    }
   },
   "outputs": [],
   "source": [
    "import numpy as np\n",
    "# define functions and parameters T, cexp\n",
    "# you have to rerun this cell if you want to change your parameters\n",
    "T = 0.0\n",
    "lamb = 0.4\n",
    "eps = 0.2\n",
    "def g(state_t0, weights):\n",
    "    h = np.dot(weights, state_t0)\n",
    "    xi = np.sqrt(2*T)*np.random.randn(np.size(state_t0))\n",
    "    return -lamb*(state_t0**2 - 1)*state_t0 + eps*(h + xi) + state_t0"
   ]
  },
  {
   "cell_type": "markdown",
   "metadata": {},
   "source": [
    "$$J_{ij} = \\frac{1}{N}\\sum_{\\lambda=1}^K m_i^{(\\lambda)} m_j^{(\\lambda)}$$\n",
    "\n",
    "$m_i^{(\\lambda)}$ can be written as a slice of a [Hadamard matrix](https://en.wikipedia.org/wiki/Hadamard_matrix), since the patterns have to be orthogonal, $\\sum_i m_i^{(\\lambda)} m_i^{(\\lambda')} = 0 $ if $\\lambda \\neq \\lambda'$\n",
    "$i = 1..N$ and $\\lambda = 1..K$. $N = L^2$ is the size of the newtork and $K$ is the number of stationary states of the system (memory patterns)"
   ]
  },
  {
   "cell_type": "code",
   "execution_count": 53,
   "metadata": {
    "ExecuteTime": {
     "end_time": "2019-04-29T18:51:06.736766Z",
     "start_time": "2019-04-29T18:51:06.052024Z"
    }
   },
   "outputs": [
    {
     "data": {
      "image/png": "[encoded data removed]",
      "text/plain": [
       "<Figure size 1440x1440 with 10 Axes>"
      ]
     },
     "metadata": {
      "needs_background": "light"
     },
     "output_type": "display_data"
    },
    {
     "data": {
      "image/png": "[encoded data removed]",
      "text/plain": [
       "<Figure size 432x288 with 1 Axes>"
      ]
     },
     "metadata": {
      "needs_background": "light"
     },
     "output_type": "display_data"
    },
    {
     "name": "stdout",
     "output_type": "stream",
     "text": [
      "Final state\n"
     ]
    },
    {
     "data": {
      "image/png": "[encoded data removed]",
      "text/plain": [
       "<Figure size 432x288 with 1 Axes>"
      ]
     },
     "metadata": {
      "needs_background": "light"
     },
     "output_type": "display_data"
    },
    {
     "name": "stdout",
     "output_type": "stream",
     "text": [
      "Stationary state\n"
     ]
    }
   ],
   "source": [
    "import matplotlib.pyplot as plt\n",
    "%matplotlib inline\n",
    "from neurodynex.hopfield_network import network, pattern_tools, plot_tools\n",
    "from scipy.linalg import hadamard\n",
    "\n",
    "L = 5 # size of the newtork\n",
    "N = L**2\n",
    "had_size = 2**np.ceil(np.log2(N))\n",
    "# had_size has to be a power of two\n",
    "H = hadamard(had_size) # Orthogonal patterns\n",
    "K = 1 # number of stationary states of the system (memory patterns)\n",
    "H = H[0:N, 4:5] # select fifth pattern\n",
    "\n",
    "# create an instance of the class HopfieldNetwork\n",
    "hopfield_net = network.HopfieldNetwork(nr_neurons=N)\n",
    "# instantiate a pattern factory\n",
    "factory = pattern_tools.PatternFactory(L, L)\n",
    "\n",
    "# einstein summation convention, sum in lambda index\n",
    "hopfield_net.weights = 1/N*np.einsum('ik,jk->ij', H, H)\n",
    "\n",
    "# set user defined function to update the state\n",
    "hopfield_net.set_dynamics_to_user_function(g)\n",
    "# hopfield_net.set_dynamics_sign_sync()\n",
    "\n",
    "stationary = np.squeeze(H) # this should be an stationary state\n",
    "\n",
    "hopfield_net.state = pattern_tools.flip_n(stationary, nr_of_flips=5)\n",
    "nsteps = 50\n",
    "states = hopfield_net.run_with_monitoring(nr_steps=nsteps)\n",
    "# TODO large nr_steps fails because numbers blow up (see cell below)\n",
    "\n",
    "# each network state is a vector. reshape it to the same shape used to create the patterns.\n",
    "states_as_patterns = factory.reshape_patterns(states[0:nsteps:round(nsteps/10)])\n",
    "# plot the states of the network (10 equispaced states)\n",
    "old = plt.rcParams[\"figure.figsize\"]\n",
    "plt.rcParams[\"figure.figsize\"] = (20, 20)\n",
    "plot_tools.plot_pattern_list(states_as_patterns)\n",
    "plt.rcParams[\"figure.figsize\"] = old\n",
    "\n",
    "# plot final state and to compare it against the stationary state\n",
    "plot_tools.plot_pattern(np.reshape(states[-1], (L, L)))\n",
    "print('Final state')\n",
    "plot_tools.plot_pattern(np.reshape(H, (L, L)))\n",
    "print('Stationary state')"
   ]
  },
  {
   "cell_type": "code",
   "execution_count": null,
   "metadata": {},
   "outputs": [],
   "source": []
  }
 ],
 "metadata": {
  "kernelspec": {
   "display_name": "hopfield",
   "language": "python",
   "name": "hopfield"
  },
  "language_info": {
   "codemirror_mode": {
    "name": "ipython",
    "version": 3
   },
   "file_extension": ".py",
   "mimetype": "text/x-python",
   "name": "python",
   "nbconvert_exporter": "python",
   "pygments_lexer": "ipython3",
   "version": "3.7.3rc1"
  },
  "varInspector": {
   "cols": {
    "lenName": 16,
    "lenType": 16,
    "lenVar": 40
   },
   "kernels_config": {
    "python": {
     "delete_cmd_postfix": "",
     "delete_cmd_prefix": "del ",
     "library": "var_list.py",
     "varRefreshCmd": "print(var_dic_list())"
    },
    "r": {
     "delete_cmd_postfix": ") ",
     "delete_cmd_prefix": "rm(",
     "library": "var_list.r",
     "varRefreshCmd": "cat(var_dic_list()) "
    }
   },
   "types_to_exclude": [
    "module",
    "function",
    "builtin_function_or_method",
    "instance",
    "_Feature"
   ],
   "window_display": false
  }
 },
 "nbformat": 4,
 "nbformat_minor": 2
}
