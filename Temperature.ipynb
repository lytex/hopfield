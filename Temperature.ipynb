{
 "cells": [
  {
   "cell_type": "markdown",
   "metadata": {},
   "source": [
    "# Differential equation (Langevin equation)"
   ]
  },
  {
   "cell_type": "markdown",
   "metadata": {},
   "source": [
    "This function g models the effect of the equation:\n",
    "$$\\frac{\\partial \\sigma_i}{\\partial t}  = -\\frac{\\partial V}{\\partial \\sigma_i} +\n",
    "\\sum_j J_{ij} \\sigma_j + h_i\\sigma_i + \\xi_i(t)$$\n",
    "\n",
    "with $V = \\lambda (\\sigma_i^2 - 1)^2$ so that $\\frac{\\partial V}{\\partial\\sigma_i} = 4\\lambda(\\sigma_i^2 - 1)\\sigma_i$. This term is added to ensure that $\\sigma_i$ decays exponentially to either $\\pm 1$ within a time $\\tau \\sim \\frac{1}{\\lambda}$\n",
    "\n",
    "The $\\xi_i(t)$ term represents Gaussian White Noise\n",
    "\n",
    "$$ \\langle \\xi_i(t) \\xi_j(t') \\rangle = 2T\\delta_{ij}\\delta(t-t')$$\n",
    "i.e., $\\xi_i(t)$ follows a $N(0, 2T)$, there is no correlation between the noise of different spins  ($i \\neq j$) and the process is Markovian and therefore has no memory (the correlation is only nonzero when $t = t'$)"
   ]
  },
  {
   "cell_type": "markdown",
   "metadata": {},
   "source": [
    "# Finite differences"
   ]
  },
  {
   "cell_type": "markdown",
   "metadata": {},
   "source": [
    "Now we have to translate this differential equation into some finite difference equation. Since the neural network works with integer time increments, the exponential decay dynamics must be fast in times of order 1 and the Ising dynamics must be \"slow\"\n",
    "\n",
    "$$\\sigma_i(t+1) - \\sigma_i(t) = dt\\left(-4\\lambda(\\sigma_i^2 - 1)\\sigma_i + \\sum_j J_{ij} \\sigma_j + h_i\\sigma_i + \\xi_i(t) \\right)$$\n",
    "\n",
    "absorbing 4 into $\\lambda$ and clearing $\\sigma_i(t+1)$:\n",
    "\n",
    "$$g (\\sigma_i(t)) = \\sigma_i(t+1)= dt\\left(-\\lambda(\\sigma_i^2 - 1)\\sigma_i +  \\sum_j J_{ij} \\sigma_j + h_i\\sigma_i + \\xi_i(t) \\right) + \\sigma_i(t)$$\n",
    "\n",
    "This will be our dynamical function $g (\\sigma_i(t))$ defined later in the code"
   ]
  },
  {
   "cell_type": "markdown",
   "metadata": {},
   "source": [
    "# Values of the dynamical parameters"
   ]
  },
  {
   "cell_type": "markdown",
   "metadata": {},
   "source": [
    " The values of the parameters are very important for the model to converge suscessfully.Too big parameter values (close or bigger than one) will cause the network to oscilate wildly trying to overcompensate the errors, while small values will converge very slowly but safely. There are another also other effects when varying $\\epsilon$ and $\\lambda$."
   ]
  },
  {
   "cell_type": "code",
   "execution_count": 1,
   "metadata": {
    "ExecuteTime": {
     "end_time": "2019-05-04T16:20:53.591875Z",
     "start_time": "2019-05-04T16:20:53.514608Z"
    }
   },
   "outputs": [],
   "source": [
    "import numpy as np\n",
    "# define functions and parameters T, lamb, dt\n",
    "T = 0.0\n",
    "lamb = 500.0\n",
    "dt = 0.01\n",
    "def g(state_t0, weights):\n",
    "    h = np.dot(weights, state_t0)\n",
    "    xi = np.sqrt(2*T*dt)*np.random.randn(np.size(state_t0))\n",
    "    state_t1 = dt*(-lamb*(state_t0**2 - 1)*state_t0 + h) + xi + state_t0\n",
    "    return state_t1"
   ]
  },
  {
   "cell_type": "markdown",
   "metadata": {},
   "source": [
    "$$J_{ij} = \\frac{1}{N}\\sum_{\\lambda=1}^K m_i^{(\\lambda)} m_j^{(\\lambda)}$$\n",
    "\n",
    "$m_i^{(\\lambda)}$ can be written as a slice of a [Hadamard matrix](https://en.wikipedia.org/wiki/Hadamard_matrix), since the patterns have to be orthogonal, $\\sum_i m_i^{(\\lambda)} m_i^{(\\lambda')} = 0 $ if $\\lambda \\neq \\lambda'$\n",
    "$i = 1..N$ and $\\lambda = 1..K$. $N = L^2$ is the size of the newtork and $K$ is the number of stationary states of the system (memory patterns)"
   ]
  },
  {
   "cell_type": "code",
   "execution_count": 2,
   "metadata": {
    "ExecuteTime": {
     "end_time": "2019-05-04T16:20:56.537508Z",
     "start_time": "2019-05-04T16:20:56.317830Z"
    }
   },
   "outputs": [],
   "source": [
    "import matplotlib.pyplot as plt\n",
    "%matplotlib inline\n",
    "from neurodynex.hopfield_network import network, pattern_tools, plot_tools\n",
    "from scipy.linalg import hadamard\n",
    "\n",
    "\n",
    "def get_stationary(N, K):\n",
    "\n",
    "    had_size = 2**np.ceil(np.log2(N))\n",
    "    # had_size has to be a power of two\n",
    "    H = np.squeeze(hadamard(had_size)) # Orthogonal patterns\n",
    "    \n",
    "    if K == 1:\n",
    "        H = H[0:N, L:L+1] \n",
    "    else:\n",
    "        H = H[0:N, 0:K]\n",
    "    return H\n",
    "\n",
    "## Parameters\n",
    "L = 10 # size of the newtork\n",
    "N = L**2\n",
    "K = 1 # number of stationary states of the system (memory patterns)\n",
    "lamb = 0.0\n",
    "dt = 0.01\n",
    "T = 0.0 # Temperature\n",
    "nsteps = 10 # number of steps of the simulation\n",
    "\n",
    "def iterate_plot(nsteps, flips=-1, pattern=-1):\n",
    "    \"\"\"\n",
    "    iterate_plot(nsteps, flips=-1, pattern=-1)\n",
    "    iterate nsteps and plot time evolution, final state and all stationary patterns\n",
    "    flips is the number of spin flipped from the stationary pattern\n",
    "    pattern is the number of the stationary pattern as given below by the very function\n",
    "    (P0, P1, P2, P3, P4, ...)\n",
    "    \"\"\"\n",
    "\n",
    "    H = get_stationary(N, K)\n",
    "\n",
    "    # create an instance of the class HopfieldNetwork\n",
    "    hopfield_net = network.HopfieldNetwork(nr_neurons=N)\n",
    "    # instantiate a pattern factory\n",
    "    factory = pattern_tools.PatternFactory(L, L)\n",
    "\n",
    "    # einstein summation convention, sum in lambda index\n",
    "    hopfield_net.weights = 1/N*np.einsum('ik,jk->ij', H, H)\n",
    "\n",
    "    # set user defined function to update the state\n",
    "    hopfield_net.set_dynamics_to_user_function(g)\n",
    "    # hopfield_net.set_dynamics_sign_sync()\n",
    "\n",
    "    stationary = np.squeeze(H) # this should be an stationary state\n",
    "\n",
    "    if flips == -1:\n",
    "        hopfield_net.state = hopfield_net.state # random initial state\n",
    "    elif pattern == -1 or K == 1:\n",
    "        # flip some spins from the stat state (only one stationary state)\n",
    "        hopfield_net.state = pattern_tools.flip_n(stationary, nr_of_flips=flips)\n",
    "    else:\n",
    "        # flip some spins from the stat state (more than one stationary state)\n",
    "        hopfield_net.state = pattern_tools.flip_n(stationary[:, pattern], nr_of_flips=flips) \n",
    "\n",
    "    states = hopfield_net.run_with_monitoring(nr_steps=nsteps)\n",
    "\n",
    "    # each network state is a vector. reshape it to the same shape used to create the patterns.\n",
    "    states_as_patterns = factory.reshape_patterns(states[0:nsteps:round(nsteps/10)])\n",
    "    # plot the states of the network (10 equispaced states)\n",
    "    old = plt.rcParams[\"figure.figsize\"]\n",
    "    plt.rcParams[\"figure.figsize\"] = (20, 20) # Bigger size\n",
    "    plot_tools.plot_pattern_list(states_as_patterns)\n",
    "    plt.rcParams[\"figure.figsize\"] = old\n",
    "\n",
    "    # plot final state to compare it against the stationary state\n",
    "    plot_tools.plot_pattern(np.reshape(states[-1], (L, L)))\n",
    "    print('Final state')\n",
    "\n",
    "    if len(np.shape(np.squeeze(H))) < 2:\n",
    "        plot_tools.plot_pattern(np.reshape(H, (L, L)))\n",
    "        print('Stationary state')\n",
    "\n",
    "    else:\n",
    "\n",
    "        H_patterns = factory.reshape_patterns(H.T)\n",
    "        print(np.shape(H.T))\n",
    "        old = plt.rcParams[\"figure.figsize\"]\n",
    "        plt.rcParams[\"figure.figsize\"] = (20, 20) # Bigger size\n",
    "        plot_tools.plot_pattern_list(H_patterns)\n",
    "        plt.rcParams[\"figure.figsize\"] = old\n",
    "        print('Stationary states')\n",
    "    return states, hopfield_net.weights\n",
    "\n"
   ]
  },
  {
   "cell_type": "markdown",
   "metadata": {},
   "source": [
    "Metastable state with initial pattern 6 at $T = 0$. Run this cell until you found a metastable pattern"
   ]
  },
  {
   "cell_type": "code",
   "execution_count": 23,
   "metadata": {
    "ExecuteTime": {
     "end_time": "2019-05-04T16:22:25.990204Z",
     "start_time": "2019-05-04T16:22:23.471188Z"
    }
   },
   "outputs": [
    {
     "data": {
      "image/png": "[encoded data removed]",
      "text/plain": [
       "<Figure size 1440x1440 with 10 Axes>"
      ]
     },
     "metadata": {
      "needs_background": "light"
     },
     "output_type": "display_data"
    },
    {
     "data": {
      "image/png": "[encoded data removed]",
      "text/plain": [
       "<Figure size 432x288 with 1 Axes>"
      ]
     },
     "metadata": {
      "needs_background": "light"
     },
     "output_type": "display_data"
    },
    {
     "name": "stdout",
     "output_type": "stream",
     "text": [
      "Final state\n",
      "(10, 100)\n"
     ]
    },
    {
     "data": {
      "image/png": "[encoded data removed]",
      "text/plain": [
       "<Figure size 1440x1440 with 10 Axes>"
      ]
     },
     "metadata": {
      "needs_background": "light"
     },
     "output_type": "display_data"
    },
    {
     "name": "stdout",
     "output_type": "stream",
     "text": [
      "Stationary states\n"
     ]
    },
    {
     "data": {
      "text/plain": [
       "Text(0, 0.5, '<|g(s)-s|>')"
      ]
     },
     "execution_count": 23,
     "metadata": {},
     "output_type": "execute_result"
    },
    {
     "data": {
      "image/png": "[encoded data removed]",
      "text/plain": [
       "<Figure size 432x288 with 1 Axes>"
      ]
     },
     "metadata": {
      "needs_background": "light"
     },
     "output_type": "display_data"
    },
    {
     "data": {
      "image/png": "[encoded data removed]",
      "text/plain": [
       "<Figure size 432x288 with 1 Axes>"
      ]
     },
     "metadata": {
      "needs_background": "light"
     },
     "output_type": "display_data"
    },
    {
     "data": {
      "image/png": "[encoded data removed]",
      "text/plain": [
       "<Figure size 432x288 with 1 Axes>"
      ]
     },
     "metadata": {
      "needs_background": "light"
     },
     "output_type": "display_data"
    }
   ],
   "source": [
    "import matplotlib.pyplot as plt\n",
    "L = 10 # size of the newtork\n",
    "N = L**2\n",
    "K = int(0.1*N)\n",
    "dt = 0.01\n",
    "lamb = 0.01\n",
    "T = 0.00 # Temperature\n",
    "nsteps = 10000 # number of steps of the simulation\n",
    "\n",
    "states, weights = iterate_plot(nsteps, 25, 4)\n",
    "\n",
    "\n",
    "plt.figure(1)\n",
    "abs_s = np.mean(np.abs(states), axis=1)\n",
    "M = np.mean(states, axis=1)\n",
    "plt.plot(abs_s)\n",
    "plt.plot(M)\n",
    "stat = np.sqrt(1+1/lamb) # converges to stat instead of +/- 1\n",
    "plt.plot([0, len(abs_s)], [stat, stat], 'r')\n",
    "plt.xlabel('t')\n",
    "plt.legend(['<|s|>', 'M', 'sqrt(1+1/lamb)'])\n",
    "\n",
    "# E = -np.einsum('ik->k', np.einsum('ij,kj->ik', weights, states))\n",
    "# plt.figure(2)\n",
    "# plt.plot(E)\n",
    "# plt.xlabel('t')\n",
    "# plt.ylabel('E')\n",
    "\n",
    "chi = np.var(np.abs(states), axis=1)\n",
    "plt.figure(4)\n",
    "plt.plot(chi)\n",
    "plt.xlabel('t')\n",
    "plt.ylabel('chi')\n",
    "\n",
    "plt.figure(5)\n",
    "conv = [g(x, weights) - x for x in states] # should be 0 for a stationary pattern with T = 0\n",
    "conv = np.mean(np.abs(conv), axis=1)\n",
    "plt.semilogy(conv)\n",
    "plt.xlabel('t')\n",
    "plt.ylabel('<|g(s)-s|>')"
   ]
  },
  {
   "cell_type": "markdown",
   "metadata": {},
   "source": [
    "Convergence to $\\pm 1$ (rerun the cell above, bigger nsteps may be needed with increasing $\\lambda$)\n",
    "\n",
    "| $\\lambda$ | 0.125 | 0.25 | 0.5 | 1.0 | 2.0 |\n",
    "|-----------|-------|------|-----|-----|-----|\n",
    "|   $|s|$   |  3.0  |  2.2 | 1.7 | 1.4 | 1.2 |\n",
    "\n",
    "\n"
   ]
  },
  {
   "cell_type": "code",
   "execution_count": 24,
   "metadata": {
    "ExecuteTime": {
     "end_time": "2019-05-04T16:22:31.025861Z",
     "start_time": "2019-05-04T16:22:30.846857Z"
    }
   },
   "outputs": [
    {
     "data": {
      "image/png": "[encoded data removed]",
      "text/plain": [
       "<Figure size 432x288 with 1 Axes>"
      ]
     },
     "metadata": {
      "needs_background": "light"
     },
     "output_type": "display_data"
    },
    {
     "data": {
      "image/png": "[encoded data removed]",
      "text/plain": [
       "<Figure size 432x288 with 1 Axes>"
      ]
     },
     "metadata": {
      "needs_background": "light"
     },
     "output_type": "display_data"
    },
    {
     "name": "stdout",
     "output_type": "stream",
     "text": [
      "Final state\n"
     ]
    }
   ],
   "source": [
    "plt.figure(1)\n",
    "H = get_stationary(N, K)\n",
    "overlap = [pattern_tools.compute_overlap(states[-1], x) for x in H.T]\n",
    "plt.bar(np.arange(0, K), overlap)\n",
    "plt.title('Overlap between final state and stationary patterns')\n",
    "metastable = np.dot(overlap, H.T) # Reconstruct metastable pattern\n",
    "plot_tools.plot_pattern(np.reshape(metastable, (L, L)))\n",
    "print(\"Final state\")"
   ]
  },
  {
   "cell_type": "code",
   "execution_count": null,
   "metadata": {},
   "outputs": [],
   "source": []
  }
 ],
 "metadata": {
  "kernelspec": {
   "display_name": "hopfield",
   "language": "python",
   "name": "hopfield"
  },
  "language_info": {
   "codemirror_mode": {
    "name": "ipython",
    "version": 3
   },
   "file_extension": ".py",
   "mimetype": "text/x-python",
   "name": "python",
   "nbconvert_exporter": "python",
   "pygments_lexer": "ipython3",
   "version": "3.7.3rc1"
  },
  "varInspector": {
   "cols": {
    "lenName": 16,
    "lenType": 16,
    "lenVar": 40
   },
   "kernels_config": {
    "python": {
     "delete_cmd_postfix": "",
     "delete_cmd_prefix": "del ",
     "library": "var_list.py",
     "varRefreshCmd": "print(var_dic_list())"
    },
    "r": {
     "delete_cmd_postfix": ") ",
     "delete_cmd_prefix": "rm(",
     "library": "var_list.r",
     "varRefreshCmd": "cat(var_dic_list()) "
    }
   },
   "oldHeight": 364.85,
   "position": {
    "height": "40px",
    "left": "825px",
    "right": "18px",
    "top": "2px",
    "width": "523px"
   },
   "types_to_exclude": [
    "module",
    "function",
    "builtin_function_or_method",
    "instance",
    "_Feature"
   ],
   "varInspector_section_display": "none",
   "window_display": true
  }
 },
 "nbformat": 4,
 "nbformat_minor": 2
}
