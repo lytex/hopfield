{
 "cells": [
  {
   "cell_type": "code",
   "execution_count": 1,
   "metadata": {
    "ExecuteTime": {
     "end_time": "2019-05-02T15:13:48.858739Z",
     "start_time": "2019-05-02T15:13:48.647313Z"
    }
   },
   "outputs": [],
   "source": [
    "from numpy.random import randint\n",
    "from random import random\n",
    "from numpy import copy,zeros,array,newaxis,exp,dot,sqrt,reshape,loadtxt,fill_diagonal\n",
    "from pylab import imshow,show,subplots\n",
    "\n",
    "# Esto no es lo ideal, habría que meterle N como **kwargs a g\n",
    "N = 81\n",
    "L = 9\n",
    "\n",
    "def E(S,J): #Funcion que toma la configuracion de spines y las constantes de acoplo y devuelve la energia\n",
    "    return(-0.5*float(dot(S,dot(J,S.T))))\n",
    "\n",
    "\n",
    "def g(S, J):\n",
    "    i = randint(0,N)\n",
    "    S_moved = copy(S)\n",
    "    if S_moved[i] < 0:\n",
    "        S_moved[i] = 1\n",
    "    else:\n",
    "        S_moved[i] = -1\n",
    "\n",
    "    dE = E(S_moved,J) - E(S,J)\n",
    "\n",
    "    if random() < exp(-dE/T):\n",
    "         return(copy(S_moved))\n",
    "    else:\n",
    "        return(S)"
   ]
  },
  {
   "cell_type": "code",
   "execution_count": 13,
   "metadata": {
    "ExecuteTime": {
     "end_time": "2019-05-02T15:15:03.705618Z",
     "start_time": "2019-05-02T15:15:03.692696Z"
    }
   },
   "outputs": [],
   "source": [
    "import matplotlib.pyplot as plt\n",
    "%matplotlib inline\n",
    "from neurodynex.hopfield_network import network, pattern_tools, plot_tools\n",
    "\n",
    "def iterate_plot(nsteps):\n",
    "    \n",
    "    memory = loadtxt(memory_txt)#[newaxis] OJO! utilizar [newaxis] solo si vais a introducir un solo estado de memoria, en caso contrario borradlo\n",
    "    K = memory.shape[0] #numero de estamos de memoria\n",
    "    N = memory.shape[1] #numero de spines de la red (debe tener raiz entera)\n",
    "    L = int(sqrt(N)) #tamaño de la red cuadrada de spines\n",
    "    J = zeros([N,N],float)\n",
    "    \n",
    "    for k in range(K):\n",
    "        xi = memory[k,:][newaxis]\n",
    "        J += N**(-1)*(dot(xi.T,xi)) #Calculamos las constantes de acoplo (Eq 1.5 del paper de Amit et al.)\n",
    "        fill_diagonal(J, 0)\n",
    "        \n",
    "    S = 2*randint(0,2,[1,N]) - 1 \n",
    "    S_mat = reshape(S,(L,L))\n",
    "\n",
    "    # create an instance of the class HopfieldNetwork\n",
    "    hopfield_net = network.HopfieldNetwork(nr_neurons=N)\n",
    "    # instantiate a pattern factory\n",
    "    factory = pattern_tools.PatternFactory(L, L)\n",
    "\n",
    "    hopfield_net.weights = J\n",
    "\n",
    "    # set user defined function to update the state\n",
    "    hopfield_net.set_dynamics_to_user_function(g)\n",
    "    # hopfield_net.set_dynamics_sign_sync()\n",
    "\n",
    "    states = hopfield_net.run_with_monitoring(nr_steps=nsteps)\n",
    "\n",
    "    # each network state is a vector. reshape it to the same shape used to create the patterns.\n",
    "    states_as_patterns = factory.reshape_patterns(states[0:nsteps:round(nsteps/10)])\n",
    "    # plot the states of the network (10 equispaced states)\n",
    "    old = plt.rcParams[\"figure.figsize\"]\n",
    "    plt.rcParams[\"figure.figsize\"] = (20, 20) # Bigger size\n",
    "    plot_tools.plot_pattern_list(states_as_patterns)\n",
    "    plt.rcParams[\"figure.figsize\"] = old\n",
    "\n",
    "    inicial_txt = 'Configuración inicial : T = %.2f ; Steps = %i' %(T,steps)\n",
    "    final_txt = 'Configuración final : T = %.2f ; Steps = %i' %(T,steps)\n",
    "    \n",
    "    plot_tools.plot_pattern(reshape(states[0], (L, L)))\n",
    "    print(inicial_txt)\n",
    "    plot_tools.plot_pattern(reshape(states[-1], (L, L)))\n",
    "    print(final_txt)\n",
    "\n",
    "    return states, hopfield_net.weights\n",
    "    "
   ]
  },
  {
   "cell_type": "code",
   "execution_count": 14,
   "metadata": {
    "ExecuteTime": {
     "end_time": "2019-05-02T15:15:06.046836Z",
     "start_time": "2019-05-02T15:15:05.332726Z"
    }
   },
   "outputs": [
    {
     "name": "stderr",
     "output_type": "stream",
     "text": [
      "/home/julian/.virtualenvs/hopfield/local/lib/python3.7/site-packages/ipykernel_launcher.py:24: RuntimeWarning: overflow encountered in exp\n"
     ]
    },
    {
     "data": {
      "image/png": "[encoded data removed]",
      "text/plain": [
       "<Figure size 1440x1440 with 10 Axes>"
      ]
     },
     "metadata": {
      "needs_background": "light"
     },
     "output_type": "display_data"
    },
    {
     "data": {
      "image/png": "[encoded data removed]",
      "text/plain": [
       "<Figure size 432x288 with 1 Axes>"
      ]
     },
     "metadata": {
      "needs_background": "light"
     },
     "output_type": "display_data"
    },
    {
     "name": "stdout",
     "output_type": "stream",
     "text": [
      "Configuración inicial : T = 0.00 ; Steps = 2000\n"
     ]
    },
    {
     "data": {
      "image/png": "[encoded data removed]",
      "text/plain": [
       "<Figure size 432x288 with 1 Axes>"
      ]
     },
     "metadata": {
      "needs_background": "light"
     },
     "output_type": "display_data"
    },
    {
     "name": "stdout",
     "output_type": "stream",
     "text": [
      "Configuración final : T = 0.00 ; Steps = 2000\n"
     ]
    }
   ],
   "source": [
    "#Parametros\n",
    "T = 1e-10 #Temperatura\n",
    "steps = 2000 #numero de pasos de Monte Carlo\n",
    "memory_txt = 'faces.txt' #nombre del archivo con los estados de memoria\n",
    "#Parametros\n",
    "\n",
    "S, J = iterate_plot(steps)\n",
    "\n",
    "S_mat = reshape(S,(steps+1, L,L))"
   ]
  },
  {
   "cell_type": "code",
   "execution_count": null,
   "metadata": {},
   "outputs": [],
   "source": []
  }
 ],
 "metadata": {
  "kernelspec": {
   "display_name": "hopfield",
   "language": "python",
   "name": "hopfield"
  },
  "language_info": {
   "codemirror_mode": {
    "name": "ipython",
    "version": 3
   },
   "file_extension": ".py",
   "mimetype": "text/x-python",
   "name": "python",
   "nbconvert_exporter": "python",
   "pygments_lexer": "ipython3",
   "version": "3.7.3rc1"
  },
  "varInspector": {
   "cols": {
    "lenName": 16,
    "lenType": 16,
    "lenVar": 40
   },
   "kernels_config": {
    "python": {
     "delete_cmd_postfix": "",
     "delete_cmd_prefix": "del ",
     "library": "var_list.py",
     "varRefreshCmd": "print(var_dic_list())"
    },
    "r": {
     "delete_cmd_postfix": ") ",
     "delete_cmd_prefix": "rm(",
     "library": "var_list.r",
     "varRefreshCmd": "cat(var_dic_list()) "
    }
   },
   "oldHeight": 364.85,
   "position": {
    "height": "40px",
    "left": "825px",
    "right": "18px",
    "top": "2px",
    "width": "523px"
   },
   "types_to_exclude": [
    "module",
    "function",
    "builtin_function_or_method",
    "instance",
    "_Feature"
   ],
   "varInspector_section_display": "none",
   "window_display": true
  }
 },
 "nbformat": 4,
 "nbformat_minor": 2
}
